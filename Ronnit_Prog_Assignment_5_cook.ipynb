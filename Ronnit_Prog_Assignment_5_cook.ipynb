{
  "nbformat": 4,
  "nbformat_minor": 0,
  "metadata": {
    "colab": {
      "name": "Ronnit_Prog_Assignment_5_cook.ipynb",
      "provenance": [],
      "collapsed_sections": []
    },
    "kernelspec": {
      "name": "python3",
      "display_name": "Python 3"
    },
    "language_info": {
      "name": "python"
    }
  },
  "cells": [
    {
      "cell_type": "code",
      "execution_count": 1,
      "metadata": {
        "id": "T1-o9Voj3DXM"
      },
      "outputs": [],
      "source": [
        "import numpy as np\n",
        "from scipy import misc\n",
        "import imageio\n",
        "from matplotlib import pylab as plt\n",
        "import matplotlib.cm as cm\n",
        "import pandas as pd\n",
        "from sklearn.preprocessing import OneHotEncoder\n",
        "%matplotlib inline"
      ]
    },
    {
      "cell_type": "code",
      "source": [
        "with open('/content/train.json') as f:\n",
        "    train_data = pd.read_json('train.json')\n",
        "\n",
        "with open('/content/test.json') as f:\n",
        "    test_data = pd.read_json('test.json')"
      ],
      "metadata": {
        "id": "qr35V4Ut36fo"
      },
      "execution_count": 2,
      "outputs": []
    },
    {
      "cell_type": "code",
      "source": [
        "# !unzip train.json.zip\n",
        "# !unzip test.json.zip"
      ],
      "metadata": {
        "id": "8w8jO5LA4iDv"
      },
      "execution_count": 3,
      "outputs": []
    },
    {
      "cell_type": "code",
      "source": [
        "train_data.head()"
      ],
      "metadata": {
        "colab": {
          "base_uri": "https://localhost:8080/",
          "height": 206
        },
        "id": "8_fQHUPY5IN8",
        "outputId": "83823a6e-8246-4d73-9443-8948d7061568"
      },
      "execution_count": 4,
      "outputs": [
        {
          "output_type": "execute_result",
          "data": {
            "text/plain": [
              "      id      cuisine                                        ingredients\n",
              "0  10259        greek  [romaine lettuce, black olives, grape tomatoes...\n",
              "1  25693  southern_us  [plain flour, ground pepper, salt, tomatoes, g...\n",
              "2  20130     filipino  [eggs, pepper, salt, mayonaise, cooking oil, g...\n",
              "3  22213       indian                [water, vegetable oil, wheat, salt]\n",
              "4  13162       indian  [black pepper, shallots, cornflour, cayenne pe..."
            ],
            "text/html": [
              "\n",
              "  <div id=\"df-7bcbed59-60d1-4aec-8443-26f3e96b2e69\">\n",
              "    <div class=\"colab-df-container\">\n",
              "      <div>\n",
              "<style scoped>\n",
              "    .dataframe tbody tr th:only-of-type {\n",
              "        vertical-align: middle;\n",
              "    }\n",
              "\n",
              "    .dataframe tbody tr th {\n",
              "        vertical-align: top;\n",
              "    }\n",
              "\n",
              "    .dataframe thead th {\n",
              "        text-align: right;\n",
              "    }\n",
              "</style>\n",
              "<table border=\"1\" class=\"dataframe\">\n",
              "  <thead>\n",
              "    <tr style=\"text-align: right;\">\n",
              "      <th></th>\n",
              "      <th>id</th>\n",
              "      <th>cuisine</th>\n",
              "      <th>ingredients</th>\n",
              "    </tr>\n",
              "  </thead>\n",
              "  <tbody>\n",
              "    <tr>\n",
              "      <th>0</th>\n",
              "      <td>10259</td>\n",
              "      <td>greek</td>\n",
              "      <td>[romaine lettuce, black olives, grape tomatoes...</td>\n",
              "    </tr>\n",
              "    <tr>\n",
              "      <th>1</th>\n",
              "      <td>25693</td>\n",
              "      <td>southern_us</td>\n",
              "      <td>[plain flour, ground pepper, salt, tomatoes, g...</td>\n",
              "    </tr>\n",
              "    <tr>\n",
              "      <th>2</th>\n",
              "      <td>20130</td>\n",
              "      <td>filipino</td>\n",
              "      <td>[eggs, pepper, salt, mayonaise, cooking oil, g...</td>\n",
              "    </tr>\n",
              "    <tr>\n",
              "      <th>3</th>\n",
              "      <td>22213</td>\n",
              "      <td>indian</td>\n",
              "      <td>[water, vegetable oil, wheat, salt]</td>\n",
              "    </tr>\n",
              "    <tr>\n",
              "      <th>4</th>\n",
              "      <td>13162</td>\n",
              "      <td>indian</td>\n",
              "      <td>[black pepper, shallots, cornflour, cayenne pe...</td>\n",
              "    </tr>\n",
              "  </tbody>\n",
              "</table>\n",
              "</div>\n",
              "      <button class=\"colab-df-convert\" onclick=\"convertToInteractive('df-7bcbed59-60d1-4aec-8443-26f3e96b2e69')\"\n",
              "              title=\"Convert this dataframe to an interactive table.\"\n",
              "              style=\"display:none;\">\n",
              "        \n",
              "  <svg xmlns=\"http://www.w3.org/2000/svg\" height=\"24px\"viewBox=\"0 0 24 24\"\n",
              "       width=\"24px\">\n",
              "    <path d=\"M0 0h24v24H0V0z\" fill=\"none\"/>\n",
              "    <path d=\"M18.56 5.44l.94 2.06.94-2.06 2.06-.94-2.06-.94-.94-2.06-.94 2.06-2.06.94zm-11 1L8.5 8.5l.94-2.06 2.06-.94-2.06-.94L8.5 2.5l-.94 2.06-2.06.94zm10 10l.94 2.06.94-2.06 2.06-.94-2.06-.94-.94-2.06-.94 2.06-2.06.94z\"/><path d=\"M17.41 7.96l-1.37-1.37c-.4-.4-.92-.59-1.43-.59-.52 0-1.04.2-1.43.59L10.3 9.45l-7.72 7.72c-.78.78-.78 2.05 0 2.83L4 21.41c.39.39.9.59 1.41.59.51 0 1.02-.2 1.41-.59l7.78-7.78 2.81-2.81c.8-.78.8-2.07 0-2.86zM5.41 20L4 18.59l7.72-7.72 1.47 1.35L5.41 20z\"/>\n",
              "  </svg>\n",
              "      </button>\n",
              "      \n",
              "  <style>\n",
              "    .colab-df-container {\n",
              "      display:flex;\n",
              "      flex-wrap:wrap;\n",
              "      gap: 12px;\n",
              "    }\n",
              "\n",
              "    .colab-df-convert {\n",
              "      background-color: #E8F0FE;\n",
              "      border: none;\n",
              "      border-radius: 50%;\n",
              "      cursor: pointer;\n",
              "      display: none;\n",
              "      fill: #1967D2;\n",
              "      height: 32px;\n",
              "      padding: 0 0 0 0;\n",
              "      width: 32px;\n",
              "    }\n",
              "\n",
              "    .colab-df-convert:hover {\n",
              "      background-color: #E2EBFA;\n",
              "      box-shadow: 0px 1px 2px rgba(60, 64, 67, 0.3), 0px 1px 3px 1px rgba(60, 64, 67, 0.15);\n",
              "      fill: #174EA6;\n",
              "    }\n",
              "\n",
              "    [theme=dark] .colab-df-convert {\n",
              "      background-color: #3B4455;\n",
              "      fill: #D2E3FC;\n",
              "    }\n",
              "\n",
              "    [theme=dark] .colab-df-convert:hover {\n",
              "      background-color: #434B5C;\n",
              "      box-shadow: 0px 1px 3px 1px rgba(0, 0, 0, 0.15);\n",
              "      filter: drop-shadow(0px 1px 2px rgba(0, 0, 0, 0.3));\n",
              "      fill: #FFFFFF;\n",
              "    }\n",
              "  </style>\n",
              "\n",
              "      <script>\n",
              "        const buttonEl =\n",
              "          document.querySelector('#df-7bcbed59-60d1-4aec-8443-26f3e96b2e69 button.colab-df-convert');\n",
              "        buttonEl.style.display =\n",
              "          google.colab.kernel.accessAllowed ? 'block' : 'none';\n",
              "\n",
              "        async function convertToInteractive(key) {\n",
              "          const element = document.querySelector('#df-7bcbed59-60d1-4aec-8443-26f3e96b2e69');\n",
              "          const dataTable =\n",
              "            await google.colab.kernel.invokeFunction('convertToInteractive',\n",
              "                                                     [key], {});\n",
              "          if (!dataTable) return;\n",
              "\n",
              "          const docLinkHtml = 'Like what you see? Visit the ' +\n",
              "            '<a target=\"_blank\" href=https://colab.research.google.com/notebooks/data_table.ipynb>data table notebook</a>'\n",
              "            + ' to learn more about interactive tables.';\n",
              "          element.innerHTML = '';\n",
              "          dataTable['output_type'] = 'display_data';\n",
              "          await google.colab.output.renderOutput(dataTable, element);\n",
              "          const docLink = document.createElement('div');\n",
              "          docLink.innerHTML = docLinkHtml;\n",
              "          element.appendChild(docLink);\n",
              "        }\n",
              "      </script>\n",
              "    </div>\n",
              "  </div>\n",
              "  "
            ]
          },
          "metadata": {},
          "execution_count": 4
        }
      ]
    },
    {
      "cell_type": "code",
      "source": [
        "test_data.head()"
      ],
      "metadata": {
        "colab": {
          "base_uri": "https://localhost:8080/",
          "height": 206
        },
        "id": "DHjb_70T4Q4Z",
        "outputId": "3eccbda1-49e4-452d-ed6a-eebd92dbfe57"
      },
      "execution_count": 5,
      "outputs": [
        {
          "output_type": "execute_result",
          "data": {
            "text/plain": [
              "      id                                        ingredients\n",
              "0  18009  [baking powder, eggs, all-purpose flour, raisi...\n",
              "1  28583  [sugar, egg yolks, corn starch, cream of tarta...\n",
              "2  41580  [sausage links, fennel bulb, fronds, olive oil...\n",
              "3  29752  [meat cuts, file powder, smoked sausage, okra,...\n",
              "4  35687  [ground black pepper, salt, sausage casings, l..."
            ],
            "text/html": [
              "\n",
              "  <div id=\"df-8f07928c-c8b8-4ee9-966e-06c0f3536bf1\">\n",
              "    <div class=\"colab-df-container\">\n",
              "      <div>\n",
              "<style scoped>\n",
              "    .dataframe tbody tr th:only-of-type {\n",
              "        vertical-align: middle;\n",
              "    }\n",
              "\n",
              "    .dataframe tbody tr th {\n",
              "        vertical-align: top;\n",
              "    }\n",
              "\n",
              "    .dataframe thead th {\n",
              "        text-align: right;\n",
              "    }\n",
              "</style>\n",
              "<table border=\"1\" class=\"dataframe\">\n",
              "  <thead>\n",
              "    <tr style=\"text-align: right;\">\n",
              "      <th></th>\n",
              "      <th>id</th>\n",
              "      <th>ingredients</th>\n",
              "    </tr>\n",
              "  </thead>\n",
              "  <tbody>\n",
              "    <tr>\n",
              "      <th>0</th>\n",
              "      <td>18009</td>\n",
              "      <td>[baking powder, eggs, all-purpose flour, raisi...</td>\n",
              "    </tr>\n",
              "    <tr>\n",
              "      <th>1</th>\n",
              "      <td>28583</td>\n",
              "      <td>[sugar, egg yolks, corn starch, cream of tarta...</td>\n",
              "    </tr>\n",
              "    <tr>\n",
              "      <th>2</th>\n",
              "      <td>41580</td>\n",
              "      <td>[sausage links, fennel bulb, fronds, olive oil...</td>\n",
              "    </tr>\n",
              "    <tr>\n",
              "      <th>3</th>\n",
              "      <td>29752</td>\n",
              "      <td>[meat cuts, file powder, smoked sausage, okra,...</td>\n",
              "    </tr>\n",
              "    <tr>\n",
              "      <th>4</th>\n",
              "      <td>35687</td>\n",
              "      <td>[ground black pepper, salt, sausage casings, l...</td>\n",
              "    </tr>\n",
              "  </tbody>\n",
              "</table>\n",
              "</div>\n",
              "      <button class=\"colab-df-convert\" onclick=\"convertToInteractive('df-8f07928c-c8b8-4ee9-966e-06c0f3536bf1')\"\n",
              "              title=\"Convert this dataframe to an interactive table.\"\n",
              "              style=\"display:none;\">\n",
              "        \n",
              "  <svg xmlns=\"http://www.w3.org/2000/svg\" height=\"24px\"viewBox=\"0 0 24 24\"\n",
              "       width=\"24px\">\n",
              "    <path d=\"M0 0h24v24H0V0z\" fill=\"none\"/>\n",
              "    <path d=\"M18.56 5.44l.94 2.06.94-2.06 2.06-.94-2.06-.94-.94-2.06-.94 2.06-2.06.94zm-11 1L8.5 8.5l.94-2.06 2.06-.94-2.06-.94L8.5 2.5l-.94 2.06-2.06.94zm10 10l.94 2.06.94-2.06 2.06-.94-2.06-.94-.94-2.06-.94 2.06-2.06.94z\"/><path d=\"M17.41 7.96l-1.37-1.37c-.4-.4-.92-.59-1.43-.59-.52 0-1.04.2-1.43.59L10.3 9.45l-7.72 7.72c-.78.78-.78 2.05 0 2.83L4 21.41c.39.39.9.59 1.41.59.51 0 1.02-.2 1.41-.59l7.78-7.78 2.81-2.81c.8-.78.8-2.07 0-2.86zM5.41 20L4 18.59l7.72-7.72 1.47 1.35L5.41 20z\"/>\n",
              "  </svg>\n",
              "      </button>\n",
              "      \n",
              "  <style>\n",
              "    .colab-df-container {\n",
              "      display:flex;\n",
              "      flex-wrap:wrap;\n",
              "      gap: 12px;\n",
              "    }\n",
              "\n",
              "    .colab-df-convert {\n",
              "      background-color: #E8F0FE;\n",
              "      border: none;\n",
              "      border-radius: 50%;\n",
              "      cursor: pointer;\n",
              "      display: none;\n",
              "      fill: #1967D2;\n",
              "      height: 32px;\n",
              "      padding: 0 0 0 0;\n",
              "      width: 32px;\n",
              "    }\n",
              "\n",
              "    .colab-df-convert:hover {\n",
              "      background-color: #E2EBFA;\n",
              "      box-shadow: 0px 1px 2px rgba(60, 64, 67, 0.3), 0px 1px 3px 1px rgba(60, 64, 67, 0.15);\n",
              "      fill: #174EA6;\n",
              "    }\n",
              "\n",
              "    [theme=dark] .colab-df-convert {\n",
              "      background-color: #3B4455;\n",
              "      fill: #D2E3FC;\n",
              "    }\n",
              "\n",
              "    [theme=dark] .colab-df-convert:hover {\n",
              "      background-color: #434B5C;\n",
              "      box-shadow: 0px 1px 3px 1px rgba(0, 0, 0, 0.15);\n",
              "      filter: drop-shadow(0px 1px 2px rgba(0, 0, 0, 0.3));\n",
              "      fill: #FFFFFF;\n",
              "    }\n",
              "  </style>\n",
              "\n",
              "      <script>\n",
              "        const buttonEl =\n",
              "          document.querySelector('#df-8f07928c-c8b8-4ee9-966e-06c0f3536bf1 button.colab-df-convert');\n",
              "        buttonEl.style.display =\n",
              "          google.colab.kernel.accessAllowed ? 'block' : 'none';\n",
              "\n",
              "        async function convertToInteractive(key) {\n",
              "          const element = document.querySelector('#df-8f07928c-c8b8-4ee9-966e-06c0f3536bf1');\n",
              "          const dataTable =\n",
              "            await google.colab.kernel.invokeFunction('convertToInteractive',\n",
              "                                                     [key], {});\n",
              "          if (!dataTable) return;\n",
              "\n",
              "          const docLinkHtml = 'Like what you see? Visit the ' +\n",
              "            '<a target=\"_blank\" href=https://colab.research.google.com/notebooks/data_table.ipynb>data table notebook</a>'\n",
              "            + ' to learn more about interactive tables.';\n",
              "          element.innerHTML = '';\n",
              "          dataTable['output_type'] = 'display_data';\n",
              "          await google.colab.output.renderOutput(dataTable, element);\n",
              "          const docLink = document.createElement('div');\n",
              "          docLink.innerHTML = docLinkHtml;\n",
              "          element.appendChild(docLink);\n",
              "        }\n",
              "      </script>\n",
              "    </div>\n",
              "  </div>\n",
              "  "
            ]
          },
          "metadata": {},
          "execution_count": 5
        }
      ]
    },
    {
      "cell_type": "code",
      "source": [
        "train_data_id = train_data['id'].values\n",
        "print('Number of dishes: ', train_data_id.shape[0])"
      ],
      "metadata": {
        "colab": {
          "base_uri": "https://localhost:8080/"
        },
        "id": "2OsexGzr5SFK",
        "outputId": "87ea6f2c-d22a-4c30-89a1-4727cda6a1e2"
      },
      "execution_count": 6,
      "outputs": [
        {
          "output_type": "stream",
          "name": "stdout",
          "text": [
            "Number of dishes:  39774\n"
          ]
        }
      ]
    },
    {
      "cell_type": "code",
      "source": [
        "train_cuisine = train_data['cuisine'].values\n",
        "unique_cuisine = list(set(train_cuisine))\n",
        "print('Number of unique cuisine: ', len(unique_cuisine))"
      ],
      "metadata": {
        "colab": {
          "base_uri": "https://localhost:8080/"
        },
        "id": "dvbBhU0jAHD1",
        "outputId": "afedcc85-fa5f-4daf-c145-a42f676e29dd"
      },
      "execution_count": 7,
      "outputs": [
        {
          "output_type": "stream",
          "name": "stdout",
          "text": [
            "Number of unique cuisine:  20\n"
          ]
        }
      ]
    },
    {
      "cell_type": "code",
      "source": [
        "train_ingredients = train_data['ingredients']\n",
        "train_ingredients.head()"
      ],
      "metadata": {
        "colab": {
          "base_uri": "https://localhost:8080/"
        },
        "id": "dl876s1cAHMG",
        "outputId": "e0c3dcee-8e98-47a9-bf82-f25c171cb7f3"
      },
      "execution_count": 8,
      "outputs": [
        {
          "output_type": "execute_result",
          "data": {
            "text/plain": [
              "0    [romaine lettuce, black olives, grape tomatoes...\n",
              "1    [plain flour, ground pepper, salt, tomatoes, g...\n",
              "2    [eggs, pepper, salt, mayonaise, cooking oil, g...\n",
              "3                  [water, vegetable oil, wheat, salt]\n",
              "4    [black pepper, shallots, cornflour, cayenne pe...\n",
              "Name: ingredients, dtype: object"
            ]
          },
          "metadata": {},
          "execution_count": 8
        }
      ]
    },
    {
      "cell_type": "code",
      "source": [
        "from tqdm import tqdm"
      ],
      "metadata": {
        "id": "ipgmQ9-hEwt6"
      },
      "execution_count": 9,
      "outputs": []
    },
    {
      "cell_type": "code",
      "source": [
        "#intializing four different for loops for faster parallel operations \n",
        "ingredients = []\n",
        "ingredients1 = []\n",
        "ingredients2 = []\n",
        "ingredients3 = []\n",
        "ingredients4 = []\n",
        "n = len(train_ingredients)//4\n",
        "for i in tqdm(train_ingredients[:n]):\n",
        "  ingredients1 = np.concatenate((ingredients1,i))\n",
        "for i in tqdm(train_ingredients[n:2*n]):\n",
        "  ingredients2 = np.concatenate((ingredients2,i))\n",
        "for i in tqdm(train_ingredients[2*n:3*n]):\n",
        "  ingredients3 = np.concatenate((ingredients3,i))\n",
        "for i in tqdm(train_ingredients[3*n:]):\n",
        "  ingredients4 = np.concatenate((ingredients4,i))\n",
        "ingredients = np.concatenate((ingredients1,ingredients2,ingredients3,ingredients4))\n",
        "len(ingredients)"
      ],
      "metadata": {
        "colab": {
          "base_uri": "https://localhost:8080/"
        },
        "id": "H7HXMDtT_HJ7",
        "outputId": "fee19145-16ce-4c7a-a9ab-b044f301855e"
      },
      "execution_count": 10,
      "outputs": [
        {
          "output_type": "stream",
          "name": "stderr",
          "text": [
            "100%|██████████| 9943/9943 [01:11<00:00, 138.35it/s]\n",
            "100%|██████████| 9943/9943 [01:08<00:00, 144.24it/s]\n",
            "100%|██████████| 9943/9943 [01:19<00:00, 124.82it/s]\n",
            "100%|██████████| 9945/9945 [01:02<00:00, 158.83it/s]\n"
          ]
        },
        {
          "output_type": "execute_result",
          "data": {
            "text/plain": [
              "428275"
            ]
          },
          "metadata": {},
          "execution_count": 10
        }
      ]
    },
    {
      "cell_type": "code",
      "source": [
        "unique_ingredients = list(set(ingredients))\n",
        "print('Number of unique ingredients: ', len(unique_ingredients))"
      ],
      "metadata": {
        "colab": {
          "base_uri": "https://localhost:8080/"
        },
        "id": "3ACcehV_AALY",
        "outputId": "40f1b26a-7f4b-4450-dda6-420fd6bbf9b4"
      },
      "execution_count": 11,
      "outputs": [
        {
          "output_type": "stream",
          "name": "stdout",
          "text": [
            "Number of unique ingredients:  6714\n"
          ]
        }
      ]
    },
    {
      "cell_type": "code",
      "source": [
        "train_features = np.zeros((len(train_data), len(unique_ingredients)))\n",
        "train_labels = np.zeros(len(train_data))\n",
        "\n",
        "for i in tqdm(range(len(train_data))):\n",
        "    for j in train_ingredients[i]:\n",
        "        train_features[i][unique_ingredients.index(j)] = 1\n",
        "    train_labels[i] = unique_cuisine.index(train_cuisine[i])"
      ],
      "metadata": {
        "colab": {
          "base_uri": "https://localhost:8080/"
        },
        "id": "xVTDyfDpK0jp",
        "outputId": "c8f7b1fc-598a-44ba-9491-dba242f50952"
      },
      "execution_count": 12,
      "outputs": [
        {
          "output_type": "stream",
          "name": "stderr",
          "text": [
            "100%|██████████| 39774/39774 [00:33<00:00, 1202.47it/s]\n"
          ]
        }
      ]
    },
    {
      "cell_type": "code",
      "source": [
        "print(\"New Shape of Features:\", train_features.shape)"
      ],
      "metadata": {
        "id": "j3_NXwkwLqCe",
        "colab": {
          "base_uri": "https://localhost:8080/"
        },
        "outputId": "9292623e-cd91-4e82-a0b1-aae5393ae37f"
      },
      "execution_count": 13,
      "outputs": [
        {
          "output_type": "stream",
          "name": "stdout",
          "text": [
            "New Shape of Features: (39774, 6714)\n"
          ]
        }
      ]
    },
    {
      "cell_type": "code",
      "source": [
        "from sklearn.model_selection import KFold\n",
        "from sklearn.naive_bayes import GaussianNB\n",
        "from sklearn.naive_bayes import BernoulliNB\n",
        "from sklearn.linear_model import LogisticRegression"
      ],
      "metadata": {
        "id": "6EReMWT5MYRQ"
      },
      "execution_count": 14,
      "outputs": []
    },
    {
      "cell_type": "code",
      "source": [
        "three_fold = KFold(n_splits = 3)\n",
        "gauss_acc = []\n",
        "bern_acc = []\n",
        "log_reg_acc = []\n",
        "classifier_G = GaussianNB()\n",
        "classifier_B = BernoulliNB()\n",
        "classifier_L = LogisticRegression()\n",
        "for train, val in three_fold.split(train_features):\n",
        "  x_train, train_label = train_features[train], train_labels[train]\n",
        "  x_test, test_label = train_features[val], train_labels[val]\n",
        "  classifier_G.fit(x_train, train_label)\n",
        "  gauss_acc = np.append(gauss_acc, classifier_G.score(x_test, test_label))\n",
        "  classifier_B.fit(x_train, train_label)\n",
        "  bern_acc = np.append(bern_acc, classifier_B.score(x_test, test_label))\n",
        "  classifier_L.fit(x_train, train_label)\n",
        "  log_reg_acc = np.append(log_reg_acc, classifier_L.score(x_test, test_label))\n",
        "gauss_avg_acc = np.mean(gauss_acc)\n",
        "bern_avg_acc = np.mean(bern_acc)\n",
        "log_avg_acc = np.mean(log_reg_acc)"
      ],
      "metadata": {
        "id": "xC_PsdUzotjr"
      },
      "execution_count": null,
      "outputs": []
    },
    {
      "cell_type": "code",
      "source": [
        "print('Cross Validation Accuracy for Gaussian distribution: ', gauss_avg_acc)\n",
        "print('Cross Validation Accuracy for Bernouli distribution: ', bern_avg_acc)\n",
        "print('Cross Validation Accuracy for Logistic Regression: ', log_avg_acc)"
      ],
      "metadata": {
        "id": "4oZ4I_AWWEnV",
        "colab": {
          "base_uri": "https://localhost:8080/"
        },
        "outputId": "547e1ba0-2ed0-421b-fca3-5cfc346cb30a"
      },
      "execution_count": 16,
      "outputs": [
        {
          "output_type": "stream",
          "name": "stdout",
          "text": [
            "Cross Validation Accuracy for Gaussian distribution:  0.3798461306381053\n",
            "Cross Validation Accuracy for Bernouli distribution:  0.6835369839593705\n",
            "Cross Validation Accuracy for Logistic Regression:  0.7729169809423242\n"
          ]
        }
      ]
    },
    {
      "cell_type": "markdown",
      "source": [
        "Looking at the results above, Gaussian distribution has the least validation score and Bernouli distribution has a score more than the Gaussian Distribution. This makes sense as the Bernouli distribution gives a clear indication of whether a particular ingredient is present in a dish ('1') or not ('0'). Therefore, making it easier for the classifier to understand the feature clearer in lieu of using a pdf from the gaussian distribution.\n",
        "\n",
        "Additionally, Logistic Regression has the best Validation score - therefore Logistic Regression will be used to submit test labels to Kaggle"
      ],
      "metadata": {
        "id": "4-oppqEe1z3D"
      }
    },
    {
      "cell_type": "code",
      "source": [
        "classifier = LogisticRegression()\n",
        "classifier.fit(train_features,train_labels)"
      ],
      "metadata": {
        "id": "_kp0pEBmlM4W",
        "colab": {
          "base_uri": "https://localhost:8080/"
        },
        "outputId": "42f75381-c59d-4474-e61a-d62756b9c467"
      },
      "execution_count": 17,
      "outputs": [
        {
          "output_type": "stream",
          "name": "stderr",
          "text": [
            "/usr/local/lib/python3.7/dist-packages/sklearn/linear_model/_logistic.py:818: ConvergenceWarning: lbfgs failed to converge (status=1):\n",
            "STOP: TOTAL NO. of ITERATIONS REACHED LIMIT.\n",
            "\n",
            "Increase the number of iterations (max_iter) or scale the data as shown in:\n",
            "    https://scikit-learn.org/stable/modules/preprocessing.html\n",
            "Please also refer to the documentation for alternative solver options:\n",
            "    https://scikit-learn.org/stable/modules/linear_model.html#logistic-regression\n",
            "  extra_warning_msg=_LOGISTIC_SOLVER_CONVERGENCE_MSG,\n"
          ]
        },
        {
          "output_type": "execute_result",
          "data": {
            "text/plain": [
              "LogisticRegression()"
            ]
          },
          "metadata": {},
          "execution_count": 17
        }
      ]
    },
    {
      "cell_type": "code",
      "source": [
        "test_features = np.zeros((len(test_data), len(unique_ingredients)))\n",
        "test_ingredients = test_data['ingredients'].values\n",
        "for i in tqdm(range(len(test_data))):\n",
        "    for j in test_ingredients[i]:\n",
        "      if j in unique_ingredients:\n",
        "        test_features[i][unique_ingredients.index(j)] = 1"
      ],
      "metadata": {
        "id": "MPBOtU0D9hAG",
        "colab": {
          "base_uri": "https://localhost:8080/"
        },
        "outputId": "9e10f61f-e755-4a97-cbcf-e2c334cb082e"
      },
      "execution_count": 18,
      "outputs": [
        {
          "output_type": "stream",
          "name": "stderr",
          "text": [
            "100%|██████████| 9944/9944 [00:18<00:00, 540.55it/s]\n"
          ]
        }
      ]
    },
    {
      "cell_type": "code",
      "source": [
        "test_label_index = classifier.predict(test_features).astype(int)\n",
        "test_label_index"
      ],
      "metadata": {
        "id": "8HVdwdtN6URU",
        "colab": {
          "base_uri": "https://localhost:8080/"
        },
        "outputId": "9d92bc7a-9973-4e93-b465-337af3202e43"
      },
      "execution_count": 19,
      "outputs": [
        {
          "output_type": "execute_result",
          "data": {
            "text/plain": [
              "array([16, 14,  1, ...,  1, 14,  2])"
            ]
          },
          "metadata": {},
          "execution_count": 19
        }
      ]
    },
    {
      "cell_type": "code",
      "source": [
        "test_label = []\n",
        "for i,idx in enumerate(test_label_index):\n",
        "  test_label.append(unique_cuisine[idx])"
      ],
      "metadata": {
        "id": "ZSpMOTlM73BP"
      },
      "execution_count": 20,
      "outputs": []
    },
    {
      "cell_type": "code",
      "source": [
        "np.array(test_data['ingredients'].values)"
      ],
      "metadata": {
        "id": "Isu98PJo74rE",
        "colab": {
          "base_uri": "https://localhost:8080/"
        },
        "outputId": "034fae46-ba7f-4f88-e677-9d64f47d7c1d"
      },
      "execution_count": 21,
      "outputs": [
        {
          "output_type": "execute_result",
          "data": {
            "text/plain": [
              "array([list(['baking powder', 'eggs', 'all-purpose flour', 'raisins', 'milk', 'white sugar']),\n",
              "       list(['sugar', 'egg yolks', 'corn starch', 'cream of tartar', 'bananas', 'vanilla wafers', 'milk', 'vanilla extract', 'toasted pecans', 'egg whites', 'light rum']),\n",
              "       list(['sausage links', 'fennel bulb', 'fronds', 'olive oil', 'cuban peppers', 'onions']),\n",
              "       ...,\n",
              "       list(['black pepper', 'salt', 'parmigiano reggiano cheese', 'ricotta', 'large egg yolks', 'dry bread crumbs', 'genoa salami', 'vegetable oil']),\n",
              "       list(['cheddar cheese', 'cayenne', 'paprika', 'plum tomatoes', 'green bell pepper', 'water', 'Tabasco Pepper Sauce', 'scallions', 'canned low sodium chicken broth', 'milk', 'butter', 'red bell pepper', 'canned black beans', 'quickcooking grits', 'salt']),\n",
              "       list(['cold water', 'olive oil', 'lime wedges', 'garlic cloves', 'boiling water', 'boneless chicken skinless thigh', 'guacamole', 'tomato salsa', 'corn tortillas', 'tomatoes', 'radishes', 'queso fresco', 'ancho chile pepper', 'ground cumin', 'white onion', 'yukon gold potatoes', 'cilantro sprigs', 'chipotles in adobo'])],\n",
              "      dtype=object)"
            ]
          },
          "metadata": {},
          "execution_count": 21
        }
      ]
    },
    {
      "cell_type": "code",
      "source": [
        "ret_temp = np.vstack((test_data['id'], test_label))\n",
        "ret = ret_temp.T\n",
        "ret = pd.DataFrame(ret)"
      ],
      "metadata": {
        "id": "CIylZLQM9N1a"
      },
      "execution_count": 22,
      "outputs": []
    },
    {
      "cell_type": "code",
      "source": [
        "ret.head()"
      ],
      "metadata": {
        "id": "38fHUG33APpv",
        "colab": {
          "base_uri": "https://localhost:8080/",
          "height": 206
        },
        "outputId": "f4f6df02-f398-415a-bee8-73aec98476ae"
      },
      "execution_count": 23,
      "outputs": [
        {
          "output_type": "execute_result",
          "data": {
            "text/plain": [
              "       0             1\n",
              "0  18009       british\n",
              "1  28583   southern_us\n",
              "2  41580       italian\n",
              "3  29752  cajun_creole\n",
              "4  35687       italian"
            ],
            "text/html": [
              "\n",
              "  <div id=\"df-a6a4ae4b-93f8-4808-a8b7-bbdcac3f53a7\">\n",
              "    <div class=\"colab-df-container\">\n",
              "      <div>\n",
              "<style scoped>\n",
              "    .dataframe tbody tr th:only-of-type {\n",
              "        vertical-align: middle;\n",
              "    }\n",
              "\n",
              "    .dataframe tbody tr th {\n",
              "        vertical-align: top;\n",
              "    }\n",
              "\n",
              "    .dataframe thead th {\n",
              "        text-align: right;\n",
              "    }\n",
              "</style>\n",
              "<table border=\"1\" class=\"dataframe\">\n",
              "  <thead>\n",
              "    <tr style=\"text-align: right;\">\n",
              "      <th></th>\n",
              "      <th>0</th>\n",
              "      <th>1</th>\n",
              "    </tr>\n",
              "  </thead>\n",
              "  <tbody>\n",
              "    <tr>\n",
              "      <th>0</th>\n",
              "      <td>18009</td>\n",
              "      <td>british</td>\n",
              "    </tr>\n",
              "    <tr>\n",
              "      <th>1</th>\n",
              "      <td>28583</td>\n",
              "      <td>southern_us</td>\n",
              "    </tr>\n",
              "    <tr>\n",
              "      <th>2</th>\n",
              "      <td>41580</td>\n",
              "      <td>italian</td>\n",
              "    </tr>\n",
              "    <tr>\n",
              "      <th>3</th>\n",
              "      <td>29752</td>\n",
              "      <td>cajun_creole</td>\n",
              "    </tr>\n",
              "    <tr>\n",
              "      <th>4</th>\n",
              "      <td>35687</td>\n",
              "      <td>italian</td>\n",
              "    </tr>\n",
              "  </tbody>\n",
              "</table>\n",
              "</div>\n",
              "      <button class=\"colab-df-convert\" onclick=\"convertToInteractive('df-a6a4ae4b-93f8-4808-a8b7-bbdcac3f53a7')\"\n",
              "              title=\"Convert this dataframe to an interactive table.\"\n",
              "              style=\"display:none;\">\n",
              "        \n",
              "  <svg xmlns=\"http://www.w3.org/2000/svg\" height=\"24px\"viewBox=\"0 0 24 24\"\n",
              "       width=\"24px\">\n",
              "    <path d=\"M0 0h24v24H0V0z\" fill=\"none\"/>\n",
              "    <path d=\"M18.56 5.44l.94 2.06.94-2.06 2.06-.94-2.06-.94-.94-2.06-.94 2.06-2.06.94zm-11 1L8.5 8.5l.94-2.06 2.06-.94-2.06-.94L8.5 2.5l-.94 2.06-2.06.94zm10 10l.94 2.06.94-2.06 2.06-.94-2.06-.94-.94-2.06-.94 2.06-2.06.94z\"/><path d=\"M17.41 7.96l-1.37-1.37c-.4-.4-.92-.59-1.43-.59-.52 0-1.04.2-1.43.59L10.3 9.45l-7.72 7.72c-.78.78-.78 2.05 0 2.83L4 21.41c.39.39.9.59 1.41.59.51 0 1.02-.2 1.41-.59l7.78-7.78 2.81-2.81c.8-.78.8-2.07 0-2.86zM5.41 20L4 18.59l7.72-7.72 1.47 1.35L5.41 20z\"/>\n",
              "  </svg>\n",
              "      </button>\n",
              "      \n",
              "  <style>\n",
              "    .colab-df-container {\n",
              "      display:flex;\n",
              "      flex-wrap:wrap;\n",
              "      gap: 12px;\n",
              "    }\n",
              "\n",
              "    .colab-df-convert {\n",
              "      background-color: #E8F0FE;\n",
              "      border: none;\n",
              "      border-radius: 50%;\n",
              "      cursor: pointer;\n",
              "      display: none;\n",
              "      fill: #1967D2;\n",
              "      height: 32px;\n",
              "      padding: 0 0 0 0;\n",
              "      width: 32px;\n",
              "    }\n",
              "\n",
              "    .colab-df-convert:hover {\n",
              "      background-color: #E2EBFA;\n",
              "      box-shadow: 0px 1px 2px rgba(60, 64, 67, 0.3), 0px 1px 3px 1px rgba(60, 64, 67, 0.15);\n",
              "      fill: #174EA6;\n",
              "    }\n",
              "\n",
              "    [theme=dark] .colab-df-convert {\n",
              "      background-color: #3B4455;\n",
              "      fill: #D2E3FC;\n",
              "    }\n",
              "\n",
              "    [theme=dark] .colab-df-convert:hover {\n",
              "      background-color: #434B5C;\n",
              "      box-shadow: 0px 1px 3px 1px rgba(0, 0, 0, 0.15);\n",
              "      filter: drop-shadow(0px 1px 2px rgba(0, 0, 0, 0.3));\n",
              "      fill: #FFFFFF;\n",
              "    }\n",
              "  </style>\n",
              "\n",
              "      <script>\n",
              "        const buttonEl =\n",
              "          document.querySelector('#df-a6a4ae4b-93f8-4808-a8b7-bbdcac3f53a7 button.colab-df-convert');\n",
              "        buttonEl.style.display =\n",
              "          google.colab.kernel.accessAllowed ? 'block' : 'none';\n",
              "\n",
              "        async function convertToInteractive(key) {\n",
              "          const element = document.querySelector('#df-a6a4ae4b-93f8-4808-a8b7-bbdcac3f53a7');\n",
              "          const dataTable =\n",
              "            await google.colab.kernel.invokeFunction('convertToInteractive',\n",
              "                                                     [key], {});\n",
              "          if (!dataTable) return;\n",
              "\n",
              "          const docLinkHtml = 'Like what you see? Visit the ' +\n",
              "            '<a target=\"_blank\" href=https://colab.research.google.com/notebooks/data_table.ipynb>data table notebook</a>'\n",
              "            + ' to learn more about interactive tables.';\n",
              "          element.innerHTML = '';\n",
              "          dataTable['output_type'] = 'display_data';\n",
              "          await google.colab.output.renderOutput(dataTable, element);\n",
              "          const docLink = document.createElement('div');\n",
              "          docLink.innerHTML = docLinkHtml;\n",
              "          element.appendChild(docLink);\n",
              "        }\n",
              "      </script>\n",
              "    </div>\n",
              "  </div>\n",
              "  "
            ]
          },
          "metadata": {},
          "execution_count": 23
        }
      ]
    },
    {
      "cell_type": "code",
      "source": [
        "ret.to_csv('./output.csv', header=False, index=False)"
      ],
      "metadata": {
        "id": "AXze4hV3CbtG"
      },
      "execution_count": 24,
      "outputs": []
    }
  ]
}